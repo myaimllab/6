{
  "nbformat": 4,
  "nbformat_minor": 0,
  "metadata": {
    "colab": {
      "name": "Untitled9.ipynb",
      "provenance": []
    },
    "kernelspec": {
      "name": "python3",
      "display_name": "Python 3"
    },
    "language_info": {
      "name": "python"
    }
  },
  "cells": [
    {
      "cell_type": "code",
      "execution_count": 15,
      "metadata": {
        "colab": {
          "base_uri": "https://localhost:8080/"
        },
        "id": "AYvpqzKKrddB",
        "outputId": "a47c6f6a-dc75-4401-c010-4642cf425903"
      },
      "outputs": [
        {
          "output_type": "stream",
          "name": "stdout",
          "text": [
            "[[1 0 0 ... 0 0 0]\n",
            " [0 1 0 ... 0 0 0]\n",
            " [0 0 1 ... 0 0 0]\n",
            " ...\n",
            " [0 0 0 ... 1 0 0]\n",
            " [0 0 0 ... 0 1 0]\n",
            " [0 0 0 ... 0 0 1]]\n",
            "0.45248868778280543\n"
          ]
        }
      ],
      "source": [
        "from sklearn import datasets\n",
        "from sklearn import metrics\n",
        "from sklearn.naive_bayes import GaussianNB\n",
        "dataset=datasets.load_diabetes()\n",
        "model=GaussianNB()\n",
        "model.fit(dataset.data,dataset.target)\n",
        "expected=dataset.target\n",
        "predicted=model.predict(dataset.data)\n",
        "print(metrics.confusion_matrix(expected,predicted))\n",
        "print(metrics.accuracy_score(expected,predicted))"
      ]
    }
  ]
}